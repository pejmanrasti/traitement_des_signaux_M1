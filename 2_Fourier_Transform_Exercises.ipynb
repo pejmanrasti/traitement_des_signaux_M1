{
  "cells": [
    {
      "cell_type": "markdown",
      "metadata": {
        "id": "view-in-github",
        "colab_type": "text"
      },
      "source": [
        "<a href=\"https://colab.research.google.com/github/pejmanrasti/traitement_des_signaux_M1/blob/main/2_Fourier_Transform_Exercises.ipynb\" target=\"_parent\"><img src=\"https://colab.research.google.com/assets/colab-badge.svg\" alt=\"Open In Colab\"/></a>"
      ]
    },
    {
      "cell_type": "markdown",
      "metadata": {
        "id": "ZN0DtNsL6zoT"
      },
      "source": [
        "# **Exercices sur la Transformée de Fourier**\n",
        "\n",
        "Dans ce notebook, nous allons définir deux exercices liés aux transformées de Fourier. Les étudiants devront effectuer la transformée de Fourier des signaux donnés et analyser les résultats. Les deux exercices se concentreront sur des signaux continus et montreront comment la transformée de Fourier peut aider à les analyser dans le domaine fréquentiel.\n"
      ],
      "id": "ZN0DtNsL6zoT"
    },
    {
      "cell_type": "markdown",
      "metadata": {
        "id": "unD_63Ff6zoX"
      },
      "source": [
        "### **Exercice 1 : Transformée de Fourier d'une impulsion rectangulaire**\n",
        "Considérez un signal d'impulsion rectangulaire défini comme suit :\n",
        "\n",
        "$$ g(t) = \\begin{cases}\n",
        "1 & -T/2 \\leq t \\leq T/2 \\\\\n",
        "0 & \\text{ailleurs}\n",
        "\\end{cases} $$\n",
        "\n",
        "Effectuez la transformée de Fourier de cette impulsion rectangulaire et tracez la magnitude des composantes fréquentielles. Vous devez :\n",
        "\n",
        "1. Définir le signal dans le domaine temporel.\n",
        "2. Calculer sa transformée de Fourier.\n",
        "3. Tracer la magnitude de la transformée de Fourier (spectre fréquentiel).\n",
        "\n",
        "*Conseils:* Utilisez `np.fft.fft` pour calculer la transformée de Fourier et `np.fft.fftfreq` pour obtenir les fréquences correspondantes.\n"
      ],
      "id": "unD_63Ff6zoX"
    },
    {
      "cell_type": "code",
      "metadata": {
        "id": "OrOYhFPa6zoY"
      },
      "source": [
        "# Students should implement the Fourier transform of the rectangular pulse here\n",
        "# Example: Define a rectangular pulse and compute its Fourier transform\n",
        "\n",
        "# Import necessary libraries\n",
        "import numpy as np\n",
        "import matplotlib.pyplot as plt\n",
        "\n",
        "# Define the time array and the rectangular pulse\n",
        "T = 1.0  # Width of the pulse\n",
        "t = np.linspace(-2, 2, 1000)  # Time array\n",
        "g = np.where(np.abs(t) <= T/2, 1, 0)  # Rectangular pulse\n",
        "\n",
        "# Plot the rectangular pulse\n",
        "plt.figure(figsize=(10, 4))\n",
        "plt.plot(t, g)\n",
        "plt.title('Rectangular Pulse')\n",
        "plt.xlabel('Time')\n",
        "plt.ylabel('Amplitude')\n",
        "plt.grid(True)\n",
        "plt.show()\n",
        "\n",
        "# Compute the Fourier transform and plot the magnitude of the frequency spectrum\n",
        "# To be completed by the students"
      ],
      "execution_count": null,
      "outputs": [],
      "id": "OrOYhFPa6zoY"
    },
    {
      "cell_type": "markdown",
      "metadata": {
        "id": "b4PlR2oC6zoa"
      },
      "source": [
        "### **Exercice 2 : Transformée de Fourier d'une fonction gaussienne**\n",
        "Considérez maintenant une fonction gaussienne, définie comme suit :\n",
        "\n",
        "$$ g(t) = e^{-\\alpha t^2} $$\n",
        "\n",
        "Effectuez la transformée de Fourier de cette fonction gaussienne et analysez le résultat. Vous devez :\n",
        "\n",
        "1. Définir la fonction gaussienne dans le domaine temporel.\n",
        "2. Calculer sa transformée de Fourier.\n",
        "3. Tracer à la fois le signal dans le domaine temporel et la magnitude dans le domaine fréquentiel.\n",
        "\n",
        "*Conseils :* Expérimentez avec différentes valeurs de $\\\\alpha$ et observez comment cela affecte la largeur de la gaussienne dans les domaines temporel et fréquentiel.\n"
      ],
      "id": "b4PlR2oC6zoa"
    },
    {
      "cell_type": "code",
      "metadata": {
        "id": "bOmza2rc6zoa"
      },
      "source": [
        "# Students should implement the Fourier transform of the Gaussian function here\n",
        "# Example: Define a Gaussian function and compute its Fourier transform\n",
        "\n",
        "# Define the time array and the Gaussian function\n",
        "alpha = 1.0  # Width parameter of the Gaussian\n",
        "t = np.linspace(-5, 5, 1000)  # Time array\n",
        "g = np.exp(-alpha * t**2)  # Gaussian function\n",
        "\n",
        "# Plot the Gaussian function\n",
        "plt.figure(figsize=(10, 4))\n",
        "plt.plot(t, g)\n",
        "plt.title('Gaussian Function')\n",
        "plt.xlabel('Time')\n",
        "plt.ylabel('Amplitude')\n",
        "plt.grid(True)\n",
        "plt.show()\n",
        "\n",
        "# Compute the Fourier transform and plot the magnitude of the frequency spectrum\n",
        "# To be completed by the students"
      ],
      "execution_count": null,
      "outputs": [],
      "id": "bOmza2rc6zoa"
    }
  ],
  "metadata": {
    "kernelspec": {
      "display_name": "Python 3",
      "language": "python",
      "name": "python3"
    },
    "language_info": {
      "name": "python",
      "version": "3.8.5"
    },
    "colab": {
      "provenance": [],
      "include_colab_link": true
    }
  },
  "nbformat": 4,
  "nbformat_minor": 5
}