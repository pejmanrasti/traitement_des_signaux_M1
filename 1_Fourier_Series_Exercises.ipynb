{
  "cells": [
    {
      "cell_type": "markdown",
      "metadata": {
        "id": "view-in-github",
        "colab_type": "text"
      },
      "source": [
        "<a href=\"https://colab.research.google.com/github/pejmanrasti/traitement_des_signaux_M1/blob/main/1_Fourier_Series_Exercises.ipynb\" target=\"_parent\"><img src=\"https://colab.research.google.com/assets/colab-badge.svg\" alt=\"Open In Colab\"/></a>"
      ]
    },
    {
      "cell_type": "markdown",
      "metadata": {
        "id": "O2rwxOdm2_DJ"
      },
      "source": [
        "# **Séries de Fourier : Exercices**\n",
        "\n",
        "Dans ce notebook, vous trouverez deux exercices liés à la décomposition en séries de Fourier. L'objectif est de vous aider à pratiquer l'application des séries de Fourier dans des scénarios réels.\n"
      ],
      "id": "O2rwxOdm2_DJ"
    },
    {
      "cell_type": "markdown",
      "metadata": {
        "id": "ZJ89y1lJ2_DL"
      },
      "source": [
        "### **Exercice 1 : Décomposition des données de température**\n",
        "\n",
        "Dans cet exercice, vous allez simuler des données de température sur une année et effectuer une décomposition en séries de Fourier sur ces données. Votre tâche est de :\n",
        "1. Simuler des données de température quotidiennes pour une année (365 jours).\n",
        "2. Décomposer le signal de température en utilisant les séries de Fourier.\n",
        "3. Reconstruire le signal en utilisant les harmoniques les plus significatives et visualiser les signaux originaux et reconstruits.\n",
        "\n",
        "_Indication : Vous pouvez utiliser la fonction `np.sin()` pour créer un modèle sinusoïdal de la variation de température._\n"
      ],
      "id": "ZJ89y1lJ2_DL"
    },
    {
      "cell_type": "code",
      "metadata": {
        "id": "wjcMIZiR2_DM"
      },
      "source": [
        "# Exercise 1: Start your code here\n",
        "import numpy as np\n",
        "import matplotlib.pyplot as plt\n",
        "\n",
        "# Simulate temperature data for one year\n",
        "days = 365\n",
        "t = np.linspace(0, 2 * np.pi, days)\n",
        "# Define your temperature model\n",
        "# temperature = ..."
      ],
      "execution_count": null,
      "outputs": [],
      "id": "wjcMIZiR2_DM"
    },
    {
      "cell_type": "markdown",
      "metadata": {
        "id": "u1I927kY2_DN"
      },
      "source": [
        "### **Exercice 2 : Décomposition d'un signal audio**\n",
        "\n",
        "Dans cet exercice, vous allez travailler avec un signal audio et appliquer une décomposition en séries de Fourier pour analyser ses composantes fréquentielles. Votre tâche est de :\n",
        "1. Générer un signal audio composé de plusieurs ondes sinusoïdales.\n",
        "2. Décomposer le signal en utilisant les séries de Fourier et tracer l'amplitude des coefficients de Fourier.\n",
        "3. Reconstruire le signal en utilisant un nombre limité de composantes de Fourier et le comparer avec le signal original.\n",
        "\n",
        "_Indication : Utilisez la fonction `np.sin()` pour créer des ondes sinusoïdales avec des fréquences différentes._\n"
      ],
      "id": "u1I927kY2_DN"
    },
    {
      "cell_type": "code",
      "metadata": {
        "id": "hs5xjt072_DO"
      },
      "source": [
        "# Exercise 2: Start your code here\n",
        "import numpy as np\n",
        "import matplotlib.pyplot as plt\n",
        "\n",
        "# Generate an audio signal composed of multiple sine waves\n",
        "duration = 1.0  # seconds\n",
        "sample_rate = 1000  # Hz\n",
        "t = np.linspace(0, duration, int(sample_rate * duration), endpoint=False)\n",
        "# Define your audio signal model\n",
        "# signal = ..."
      ],
      "execution_count": null,
      "outputs": [],
      "id": "hs5xjt072_DO"
    }
  ],
  "metadata": {
    "kernelspec": {
      "display_name": "Python 3",
      "language": "python",
      "name": "python3"
    },
    "language_info": {
      "name": "python",
      "version": "3.8.5"
    },
    "colab": {
      "provenance": [],
      "include_colab_link": true
    }
  },
  "nbformat": 4,
  "nbformat_minor": 5
}